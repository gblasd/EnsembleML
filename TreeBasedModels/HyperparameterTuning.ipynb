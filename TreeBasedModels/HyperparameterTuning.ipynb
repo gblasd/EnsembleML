{
 "cells": [
  {
   "cell_type": "markdown",
   "metadata": {},
   "source": [
    "# Hyperparameters"
   ]
  },
  {
   "cell_type": "markdown",
   "metadata": {},
   "source": [
    "__The dataset__\n",
    "\n",
    "The dataset relate to credit card defaults.\n",
    "It contains variables related to the financial history of some consumers in Taiwan. It was 30,000 users and 24 attributes.\n",
    "\n",
    "Our modeling target is wheter they defaulted on their loan.\n",
    "\n",
    "is has already been preprocessed and ot times we will take smaller samples to demonstrate a concept.\n",
    "\n",
    "`https://archive.ics.uci.edu/ml/datasets/default-of-credit-card-clients`\n"
   ]
  },
  {
   "cell_type": "markdown",
   "metadata": {},
   "source": [
    "__What is a parameter?__\n",
    "\n",
    "- Component of the model learned during the modeling process.\n",
    "- You don't set three manually (you can't in fact), The algotihm will discover these for you.\n"
   ]
  },
  {
   "cell_type": "markdown",
   "metadata": {},
   "source": [
    "### Parameters in Logistic Regression"
   ]
  },
  {
   "cell_type": "code",
   "execution_count": null,
   "metadata": {},
   "outputs": [],
   "source": [
    "# A simple logistic regression model:\n",
    "log_reg_clf = LogisticRegression()\n",
    "log_reg_clf.fit(X_train, y_train)\n",
    "print(log_reg_clf.coef_)"
   ]
  }
 ],
 "metadata": {
  "language_info": {
   "name": "python"
  }
 },
 "nbformat": 4,
 "nbformat_minor": 2
}
